{
 "cells": [
  {
   "cell_type": "code",
   "execution_count": 19,
   "metadata": {},
   "outputs": [],
   "source": [
    "import os\n",
    "import sys\n",
    "import re\n",
    "import glob\n",
    "import subprocess"
   ]
  },
  {
   "cell_type": "code",
   "execution_count": 20,
   "metadata": {},
   "outputs": [],
   "source": [
    "root='/Users/sachinmishra/Desktop/nyt'"
   ]
  },
  {
   "cell_type": "code",
   "execution_count": 21,
   "metadata": {},
   "outputs": [],
   "source": [
    "import time, glob"
   ]
  },
  {
   "cell_type": "code",
   "execution_count": 12,
   "metadata": {},
   "outputs": [],
   "source": [
    "os.getcwd()\n",
    "os.chdir('../')"
   ]
  },
  {
   "cell_type": "code",
   "execution_count": 32,
   "metadata": {},
   "outputs": [
    {
     "data": {
      "text/plain": [
       "'/Users/sachinmishra/Desktop/nyt'"
      ]
     },
     "execution_count": 32,
     "metadata": {},
     "output_type": "execute_result"
    }
   ],
   "source": [
    "x=os.getcwd()\n",
    "x"
   ]
  },
  {
   "cell_type": "code",
   "execution_count": 33,
   "metadata": {},
   "outputs": [
    {
     "data": {
      "text/plain": [
       "['.DS_Store', 'nyt2', 'excercise.py', 'trial.ipynb', 'nyt1', 'exp.ipynb']"
      ]
     },
     "execution_count": 33,
     "metadata": {},
     "output_type": "execute_result"
    }
   ],
   "source": [
    "dir_list=os.listdir()\n",
    "dir_list"
   ]
  },
  {
   "cell_type": "code",
   "execution_count": 34,
   "metadata": {},
   "outputs": [
    {
     "name": "stdout",
     "output_type": "stream",
     "text": [
      "[Errno 20] Not a directory: '/Users/sachinmishra/Desktop/nyt/.DS_Store'\n",
      "[Errno 20] Not a directory: '/Users/sachinmishra/Desktop/nyt/excercise.py'\n",
      "[Errno 20] Not a directory: '/Users/sachinmishra/Desktop/nyt/trial.ipynb'\n",
      "[Errno 20] Not a directory: '/Users/sachinmishra/Desktop/nyt/exp.ipynb'\n"
     ]
    }
   ],
   "source": [
    "for i in dir_list:\n",
    "    try:\n",
    "        os.chdir(x+'/'+i)\n",
    "        outfilename = 'all_' + str((int(time.time()))) + \".txt\"\n",
    "\n",
    "        filenames = glob.glob('*.tmp')\n",
    "        filenames=sorted(filenames)\n",
    "\n",
    "        with open(outfilename, 'wb') as outfile:\n",
    "            for fname in filenames:\n",
    "                with open(fname, 'r') as readfile:\n",
    "                    infile = readfile.read()\n",
    "                    for line in infile:\n",
    "                        outfile.write(line.encode())\n",
    "                    #outfile.write(\"\\n\".encode())\n",
    "        \n",
    "    except Exception as e:\n",
    "        print(e)\n",
    "os.chdir(root)        \n"
   ]
  },
  {
   "cell_type": "code",
   "execution_count": 25,
   "metadata": {},
   "outputs": [
    {
     "name": "stderr",
     "output_type": "stream",
     "text": [
      "[nltk_data] Downloading package punkt to\n",
      "[nltk_data]     /Users/sachinmishra/nltk_data...\n",
      "[nltk_data]   Package punkt is already up-to-date!\n"
     ]
    },
    {
     "data": {
      "text/plain": [
       "True"
      ]
     },
     "execution_count": 25,
     "metadata": {},
     "output_type": "execute_result"
    }
   ],
   "source": [
    "import nltk\n",
    "nltk.download('punkt')"
   ]
  },
  {
   "cell_type": "code",
   "execution_count": 31,
   "metadata": {},
   "outputs": [
    {
     "data": {
      "text/plain": [
       "'/Users/sachinmishra/Desktop/nyt'"
      ]
     },
     "execution_count": 31,
     "metadata": {},
     "output_type": "execute_result"
    }
   ],
   "source": [
    "x"
   ]
  },
  {
   "cell_type": "code",
   "execution_count": 35,
   "metadata": {},
   "outputs": [
    {
     "name": "stdout",
     "output_type": "stream",
     "text": [
      "[Errno 20] Not a directory: '/Users/sachinmishra/Desktop/nyt/.DS_Store'\n",
      "[Errno 20] Not a directory: '/Users/sachinmishra/Desktop/nyt/excercise.py'\n",
      "[Errno 20] Not a directory: '/Users/sachinmishra/Desktop/nyt/trial.ipynb'\n",
      "[Errno 20] Not a directory: '/Users/sachinmishra/Desktop/nyt/exp.ipynb'\n"
     ]
    }
   ],
   "source": [
    "for file1 in dir_list:\n",
    "    try:\n",
    "        os.chdir(x+'/'+file1)\n",
    "        files = glob.glob('*.txt')\n",
    "        for j in files:\n",
    "            file= open(j,'r',encoding='utf-8')\n",
    "            text=file.read()\n",
    "            text=text.replace(\"\\n\", \"\")\n",
    "            nltk.tokenize.sent_tokenize(text, language='english')\n",
    "\n",
    "            sentences=sent_tokenize(text)\n",
    "            final_file= 'final.txt'\n",
    "            with open(final_file, 'wb') as outfile:\n",
    "                for k in sentences:\n",
    "                    outfile.write(k.encode())\n",
    "                    outfile.write('\\n'.encode())\n",
    "        \n",
    "    except Exception as e:\n",
    "        print(e)\n",
    "os.chdir(root)        \n",
    "    "
   ]
  },
  {
   "cell_type": "code",
   "execution_count": null,
   "metadata": {},
   "outputs": [],
   "source": [
    "with open(final_file, 'wb') as outfile:\n",
    "    for i in sentences:\n",
    "            outfile.write(i.encode())\n",
    "            outfile.write('\\n'.encode())"
   ]
  }
 ],
 "metadata": {
  "kernelspec": {
   "display_name": "Python 3.9.13 ('base')",
   "language": "python",
   "name": "python3"
  },
  "language_info": {
   "codemirror_mode": {
    "name": "ipython",
    "version": 3
   },
   "file_extension": ".py",
   "mimetype": "text/x-python",
   "name": "python",
   "nbconvert_exporter": "python",
   "pygments_lexer": "ipython3",
   "version": "3.9.13"
  },
  "orig_nbformat": 4,
  "vscode": {
   "interpreter": {
    "hash": "8b39a4b8cec9b7e93b5b033fd6d79d343642f33faa000d77035f4c4ecb9583c1"
   }
  }
 },
 "nbformat": 4,
 "nbformat_minor": 2
}
